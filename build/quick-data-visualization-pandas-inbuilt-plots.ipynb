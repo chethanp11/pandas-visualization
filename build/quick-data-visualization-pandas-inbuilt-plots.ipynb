{
  "cells": [
    {
      "metadata": {
        "_uuid": "33b72377c296c28a438b800fd8604a96319f7127"
      },
      "cell_type": "markdown",
      "source": ""
    },
    {
      "metadata": {
        "_cell_guid": "ded4c9d2-ef7f-4682-a5cd-5e4a628a77b0",
        "_uuid": "dab4cdf862a7ff6a2c117c293e7ca87daf4faad7",
        "collapsed": true
      },
      "cell_type": "markdown",
      "source": "# **DATA VISUALIZATION - PANDAS**"
    },
    {
      "metadata": {
        "_uuid": "00063a28ac2acd5084bbc0d62d02b15aff45c94b"
      },
      "cell_type": "markdown",
      "source": "## **IMPORT LIBRARIES**"
    },
    {
      "metadata": {
        "collapsed": true,
        "trusted": true,
        "_uuid": "d7f211f46da5bc2a7742837c1fae6ae7d973df4e"
      },
      "cell_type": "code",
      "source": "import numpy as np\nimport pandas as pd\nimport seaborn as sns\nimport os\n%matplotlib inline\n",
      "execution_count": null,
      "outputs": []
    },
    {
      "metadata": {
        "_uuid": "f57cca196295ffad5861e032fea044dcfd5509dd"
      },
      "cell_type": "markdown",
      "source": "## GET DATA"
    },
    {
      "metadata": {
        "collapsed": true,
        "trusted": true,
        "_uuid": "d5146e6735e0263eb0711a3659c0326cfa546a5d"
      },
      "cell_type": "code",
      "source": "os.getcwd()\nos.chdir(\"../input/\")\ndf1 = pd.read_csv(\"df1\", index_col = 0)\ndf1.head()\n\ndf2 = pd.read_csv(\"df2\")\ndf2.head()",
      "execution_count": null,
      "outputs": []
    },
    {
      "metadata": {
        "_uuid": "3a0437ff94cab792e499fac6eaa63a191c525c87"
      },
      "cell_type": "markdown",
      "source": "## **HISTOGRAM**"
    },
    {
      "metadata": {
        "collapsed": true,
        "trusted": true,
        "_uuid": "3895e2e1a31b8fbee4715c4f670508bbee53d2a5"
      },
      "cell_type": "code",
      "source": "df1['A'].hist()\ndf1['A'].hist(bins=5)\ndf1['A'].plot(kind='hist')\ndf1['A'].plot.hist()",
      "execution_count": null,
      "outputs": []
    },
    {
      "metadata": {
        "_uuid": "f674b9cecf0fb640c0880ed8c42b77aac2202ed0"
      },
      "cell_type": "markdown",
      "source": "## **AREA AND BAR PLOT**"
    },
    {
      "metadata": {
        "collapsed": true,
        "trusted": true,
        "_uuid": "a0a9c4cbf11637e99fe48a671701dc188dac286a"
      },
      "cell_type": "code",
      "source": "df2.plot.area()\ndf2.plot.bar(stacked=True)",
      "execution_count": null,
      "outputs": []
    },
    {
      "metadata": {
        "_uuid": "4643f69c92ff641e4b432ef71accafd7c74c8a28"
      },
      "cell_type": "markdown",
      "source": "## **LINE PLOT FOR TIME SERIES DATA**"
    },
    {
      "metadata": {
        "collapsed": true,
        "trusted": true,
        "_uuid": "f1d5986368cab637018b03636d886fc9c7f9c04c"
      },
      "cell_type": "code",
      "source": "df1.plot.line(x=df1.index, y='B')",
      "execution_count": null,
      "outputs": []
    },
    {
      "metadata": {
        "_uuid": "f9e1ca97ba2f7549c746d6c2809075c7cafc9275"
      },
      "cell_type": "markdown",
      "source": "## **SCATTER PLOT**"
    },
    {
      "metadata": {
        "collapsed": true,
        "trusted": true,
        "_uuid": "d0ad871450d57322d412818f426249ae518d70e7"
      },
      "cell_type": "code",
      "source": "df1.plot.scatter(x='A', y='B', c='C',cmap='coolwarm')",
      "execution_count": null,
      "outputs": []
    },
    {
      "metadata": {
        "_uuid": "778882197e34ad650dd03f66a5382396ce1ec22c"
      },
      "cell_type": "markdown",
      "source": "## **BOX PLOT**"
    },
    {
      "metadata": {
        "collapsed": true,
        "trusted": true,
        "_uuid": "797a4ab304f5ffd30e7f307a30b2267d0f1c18f5"
      },
      "cell_type": "code",
      "source": "df2.plot.box()",
      "execution_count": null,
      "outputs": []
    },
    {
      "metadata": {
        "_uuid": "b5fb225580366be5717e4ccc3a69ce8a3e3e638a"
      },
      "cell_type": "markdown",
      "source": "## **HEXA PLOT**"
    },
    {
      "metadata": {
        "collapsed": true,
        "trusted": true,
        "_uuid": "0c178e10b7ebcdcc903d907a012d70136bb69250"
      },
      "cell_type": "code",
      "source": "df = pd.DataFrame(np.random.randn(1000,2), columns=['a','b'])\ndf.plot.hexbin('a', 'b', gridsize=25)",
      "execution_count": null,
      "outputs": []
    },
    {
      "metadata": {
        "_uuid": "7eecbd1ad3bac1c5c6600ed1455b18c6d5938a7c"
      },
      "cell_type": "markdown",
      "source": "## **KDE PLOT**"
    },
    {
      "metadata": {
        "collapsed": true,
        "trusted": true,
        "_uuid": "7c4dfbb1851a886a1be9d11309866c6639de21ca"
      },
      "cell_type": "code",
      "source": "df['a'].plot.kde()\ndf['a'].plot.density()\n\ndf2.plot.kde()\n",
      "execution_count": null,
      "outputs": []
    },
    {
      "metadata": {
        "_uuid": "1a37fa0bc7974f669286de30ed04a2fd0024f508"
      },
      "cell_type": "markdown",
      "source": ""
    },
    {
      "metadata": {
        "_uuid": "10c37f9acb9dc5a083c3cb769eaa5747127e3d9e"
      },
      "cell_type": "markdown",
      "source": ""
    },
    
    {
      "metadata": {
        "_uuid": "8bcbfde6de27e47795e10f183fe366dadb133bae"
      },
      "cell_type": "markdown",
      "source": ""
    }
  ],
  "metadata": {
    "kernelspec": {
      "display_name": "Python 3",
      "language": "python",
      "name": "python3"
    },
    "language_info": {
      "codemirror_mode": {
        "name": "ipython",
        "version": 3
      },
      "file_extension": ".py",
      "mimetype": "text/x-python",
      "name": "python",
      "nbconvert_exporter": "python",
      "pygments_lexer": "ipython3",
      "version": "3.6.4"
    }
  },
  "nbformat": 4,
  "nbformat_minor": 1
}
